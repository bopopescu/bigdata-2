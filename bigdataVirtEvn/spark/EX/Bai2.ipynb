{
 "cells": [
  {
   "cell_type": "code",
   "execution_count": 2,
   "metadata": {},
   "outputs": [],
   "source": [
    "df = spark.read.format(\"csv\").option(\"header\",\n",
    "\"true\").load(\"/home/biennt/Desktop/bigdata/ebay.csv\")"
   ]
  },
  {
   "cell_type": "code",
   "execution_count": 3,
   "metadata": {
    "scrolled": true
   },
   "outputs": [
    {
     "name": "stdout",
     "output_type": "stream",
     "text": [
      "+----------+-----+--------+--------------+----------+-------+-----+----+----------+\n",
      "| auctionid|  bid| bidtime|        bidder|bidderrate|openbid|price|item|daystolive|\n",
      "+----------+-----+--------+--------------+----------+-------+-----+----+----------+\n",
      "|8213034705|   95|2.927373|      jake7870|         0|     95|117.5|xbox|         3|\n",
      "|8213034705|  115|2.943484| davidbresler2|         1|     95|117.5|xbox|         3|\n",
      "|8213034705|  100|2.951285|gladimacowgirl|        58|     95|117.5|xbox|         3|\n",
      "|8213034705|117.5|2.998947|       daysrus|        10|     95|117.5|xbox|         3|\n",
      "|8213060420|    2|0.065266|    donnie4814|         5|      1|  120|xbox|         3|\n",
      "|8213060420|15.25|0.123218|   myreeceyboy|        52|      1|  120|xbox|         3|\n",
      "|8213060420|    3|0.186539|  parakeet2004|         5|      1|  120|xbox|         3|\n",
      "|8213060420|   10| 0.18669|  parakeet2004|         5|      1|  120|xbox|         3|\n",
      "|8213060420|24.99|0.187049|  parakeet2004|         5|      1|  120|xbox|         3|\n",
      "|8213060420|   20|0.249491| bluebubbles_1|        25|      1|  120|xbox|         3|\n",
      "|8213060420|   22| 0.24956| bluebubbles_1|        25|      1|  120|xbox|         3|\n",
      "|8213060420|   24|0.249653| bluebubbles_1|        25|      1|  120|xbox|         3|\n",
      "|8213060420|   26|0.249757| bluebubbles_1|        25|      1|  120|xbox|         3|\n",
      "|8213060420|   80| 0.59059|        sa4741|         3|      1|  120|xbox|         3|\n",
      "|8213060420|   75|0.657384|     jhnsn2273|        51|      1|  120|xbox|         3|\n",
      "|8213060420|   85|0.657917|     jhnsn2273|        51|      1|  120|xbox|         3|\n",
      "|8213060420|   83|0.816447|        sa4741|         3|      1|  120|xbox|         3|\n",
      "|8213060420|  100|1.005903|        sa4741|         3|      1|  120|xbox|         3|\n",
      "|8213060420|  100|1.012697|     jhnsn2273|        51|      1|  120|xbox|         3|\n",
      "|8213060420|  110|1.013056|     jhnsn2273|        51|      1|  120|xbox|         3|\n",
      "+----------+-----+--------+--------------+----------+-------+-----+----+----------+\n",
      "only showing top 20 rows\n",
      "\n"
     ]
    }
   ],
   "source": [
    "df.show()"
   ]
  },
  {
   "cell_type": "code",
   "execution_count": 4,
   "metadata": {},
   "outputs": [
    {
     "name": "stdout",
     "output_type": "stream",
     "text": [
      "root\n",
      " |-- auctionid: string (nullable = true)\n",
      " |-- bid: string (nullable = true)\n",
      " |-- bidtime: string (nullable = true)\n",
      " |-- bidder: string (nullable = true)\n",
      " |-- bidderrate: string (nullable = true)\n",
      " |-- openbid: string (nullable = true)\n",
      " |-- price: string (nullable = true)\n",
      " |-- item: string (nullable = true)\n",
      " |-- daystolive: string (nullable = true)\n",
      "\n"
     ]
    }
   ],
   "source": [
    "df.printSchema()"
   ]
  },
  {
   "cell_type": "code",
   "execution_count": 4,
   "metadata": {},
   "outputs": [
    {
     "data": {
      "text/plain": [
       "627"
      ]
     },
     "execution_count": 4,
     "metadata": {},
     "output_type": "execute_result"
    }
   ],
   "source": [
    "df.select(\"auctionid\").distinct().count()"
   ]
  },
  {
   "cell_type": "code",
   "execution_count": 5,
   "metadata": {},
   "outputs": [
    {
     "name": "stdout",
     "output_type": "stream",
     "text": [
      "+-------+-----+\n",
      "|   item|count|\n",
      "+-------+-----+\n",
      "|cartier| 1953|\n",
      "|   palm| 5917|\n",
      "|   xbox| 2784|\n",
      "+-------+-----+\n",
      "\n"
     ]
    }
   ],
   "source": [
    "df.groupBy(\"item\").count().show()"
   ]
  },
  {
   "cell_type": "code",
   "execution_count": 10,
   "metadata": {},
   "outputs": [
    {
     "name": "stdout",
     "output_type": "stream",
     "text": [
      "+----------+-----+--------+--------------+----------+-------+-----+----+----------+\n",
      "| auctionid|  bid| bidtime|        bidder|bidderrate|openbid|price|item|daystolive|\n",
      "+----------+-----+--------+--------------+----------+-------+-----+----+----------+\n",
      "|8213034705|   95|2.927373|      jake7870|         0|     95|117.5|xbox|         3|\n",
      "|8213034705|  115|2.943484| davidbresler2|         1|     95|117.5|xbox|         3|\n",
      "|8213034705|  100|2.951285|gladimacowgirl|        58|     95|117.5|xbox|         3|\n",
      "|8213034705|117.5|2.998947|       daysrus|        10|     95|117.5|xbox|         3|\n",
      "|8213060420|    2|0.065266|    donnie4814|         5|      1|  120|xbox|         3|\n",
      "|8213060420|15.25|0.123218|   myreeceyboy|        52|      1|  120|xbox|         3|\n",
      "|8213060420|    3|0.186539|  parakeet2004|         5|      1|  120|xbox|         3|\n",
      "|8213060420|   10| 0.18669|  parakeet2004|         5|      1|  120|xbox|         3|\n",
      "|8213060420|24.99|0.187049|  parakeet2004|         5|      1|  120|xbox|         3|\n",
      "|8213060420|   20|0.249491| bluebubbles_1|        25|      1|  120|xbox|         3|\n",
      "|8213060420|   22| 0.24956| bluebubbles_1|        25|      1|  120|xbox|         3|\n",
      "|8213060420|   24|0.249653| bluebubbles_1|        25|      1|  120|xbox|         3|\n",
      "|8213060420|   26|0.249757| bluebubbles_1|        25|      1|  120|xbox|         3|\n",
      "|8213060420|   80| 0.59059|        sa4741|         3|      1|  120|xbox|         3|\n",
      "|8213060420|   75|0.657384|     jhnsn2273|        51|      1|  120|xbox|         3|\n",
      "|8213060420|   85|0.657917|     jhnsn2273|        51|      1|  120|xbox|         3|\n",
      "|8213060420|   83|0.816447|        sa4741|         3|      1|  120|xbox|         3|\n",
      "|8213060420|  100|1.005903|        sa4741|         3|      1|  120|xbox|         3|\n",
      "|8213060420|  100|1.012697|     jhnsn2273|        51|      1|  120|xbox|         3|\n",
      "|8213060420|  110|1.013056|     jhnsn2273|        51|      1|  120|xbox|         3|\n",
      "+----------+-----+--------+--------------+----------+-------+-----+----+----------+\n",
      "only showing top 20 rows\n",
      "\n"
     ]
    }
   ],
   "source": [
    "df.filter(\"price > 100\").show()"
   ]
  },
  {
   "cell_type": "code",
   "execution_count": null,
   "metadata": {},
   "outputs": [],
   "source": []
  }
 ],
 "metadata": {
  "kernelspec": {
   "display_name": "Python 2",
   "language": "python",
   "name": "python2"
  },
  "language_info": {
   "codemirror_mode": {
    "name": "ipython",
    "version": 2
   },
   "file_extension": ".py",
   "mimetype": "text/x-python",
   "name": "python",
   "nbconvert_exporter": "python",
   "pygments_lexer": "ipython2",
   "version": "2.7.15rc1"
  }
 },
 "nbformat": 4,
 "nbformat_minor": 2
}
