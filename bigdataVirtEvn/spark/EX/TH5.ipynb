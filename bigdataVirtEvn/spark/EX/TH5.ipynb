{
 "cells": [
  {
   "cell_type": "code",
   "execution_count": 12,
   "metadata": {},
   "outputs": [
    {
     "data": {
      "text/plain": [
       "294"
      ]
     },
     "execution_count": 12,
     "metadata": {},
     "output_type": "execute_result"
    }
   ],
   "source": [
    "data = spark.read.format(\"csv\")\\\n",
    ".option(\"header\", \"true\")\\\n",
    ".option(\"inferSchema\", \"true\")\\\n",
    ".load(\"/home/biennt/Desktop/bigdata/data_geo.csv\")\n",
    "data.cache()\n",
    "data.count()"
   ]
  },
  {
   "cell_type": "code",
   "execution_count": 13,
   "metadata": {
    "scrolled": true
   },
   "outputs": [
    {
     "data": {
      "text/plain": [
       "DataFrame[2014 rank: int, City: string, State: string, State Code: string, 2014 Population estimate: int, 2015 median sales price: double]"
      ]
     },
     "metadata": {},
     "output_type": "display_data"
    },
    {
     "name": "stdout",
     "output_type": "stream",
     "text": [
      "root\n",
      " |-- 2014 rank: integer (nullable = true)\n",
      " |-- City: string (nullable = true)\n",
      " |-- State: string (nullable = true)\n",
      " |-- State Code: string (nullable = true)\n",
      " |-- 2014 Population estimate: integer (nullable = true)\n",
      " |-- 2015 median sales price: double (nullable = true)\n",
      "\n"
     ]
    }
   ],
   "source": [
    "display(data)\n",
    "data.printSchema()"
   ]
  },
  {
   "cell_type": "code",
   "execution_count": 14,
   "metadata": {},
   "outputs": [
    {
     "data": {
      "text/plain": [
       "294"
      ]
     },
     "execution_count": 14,
     "metadata": {},
     "output_type": "execute_result"
    }
   ],
   "source": [
    "data.count()\n",
    "data.dropna()\n",
    "data.count()"
   ]
  },
  {
   "cell_type": "code",
   "execution_count": 15,
   "metadata": {},
   "outputs": [],
   "source": [
    "# data.createOrReplaceTempView(\"data_geo\")\n",
    "# df1 = spark.sql(\"\"\"Select City, `State Code`, `2014 Population estimate`, \n",
    "#                 `2015 median sales price` From data_geo\"\"\")\n",
    "# display(df1)"
   ]
  },
  {
   "cell_type": "code",
   "execution_count": 25,
   "metadata": {
    "scrolled": false
   },
   "outputs": [],
   "source": [
    "data = spark.read.csv(\"/home/biennt/Desktop/bigdata/data_geo.csv\", header=\"true\", inferSchema=\"true\")\n",
    "data.cache() # Cache data for faster reuse\n",
    "from pyspark.sql.functions import col\n",
    "\n",
    "data = data.dropna() # drop rows with missing values\n",
    "exprs = [col(column).alias(column.replace(' ', '_')) for column in data.columns]"
   ]
  },
  {
   "cell_type": "code",
   "execution_count": 26,
   "metadata": {},
   "outputs": [],
   "source": [
    "from pyspark.ml import Pipeline\n",
    "from pyspark.ml.feature import VectorAssembler\n",
    "\n",
    "vdata = data.select(*exprs).selectExpr(\"2014_Population_estimate as population\", \"2015_median_sales_price as label\")\n",
    "\n",
    "stages = []\n",
    "assembler = VectorAssembler(inputCols=[\"population\"], outputCol=\"features\")\n",
    "stages += [assembler]\n",
    "pipeline = Pipeline(stages=stages)\n",
    "pipelineModel = pipeline.fit(vdata)\n",
    "dataset = pipelineModel.transform(vdata)\n",
    "# Keep relevant columns\n",
    "selectedcols = [\"features\", \"label\"]"
   ]
  },
  {
   "cell_type": "code",
   "execution_count": 27,
   "metadata": {
    "scrolled": true
   },
   "outputs": [],
   "source": [
    "# from pyspark.mllib.regression import LabeledPoint\n",
    "# from IPython.display import display, HTML\n",
    "# #LabeledPoint(double label, Vector features)\n",
    "# data1 = data.select(\"2015 median sales price\", \"2014 Population estimate\")\\\n",
    "# .rdd.map(lambda r: LabeledPoint(r[0], [r[1]]))\\\n",
    "# .toDF()\n"
   ]
  },
  {
   "cell_type": "code",
   "execution_count": 28,
   "metadata": {},
   "outputs": [],
   "source": [
    "import numpy as np\n",
    "import matplotlib.pyplot as plt\n",
    "x = dataset.rdd.map(lambda p: (p.features[0])).collect()\n",
    "y = dataset.rdd.map(lambda p: (p.label)).collect()"
   ]
  },
  {
   "cell_type": "code",
   "execution_count": 34,
   "metadata": {
    "scrolled": false
   },
   "outputs": [
    {
     "data": {
      "image/png": "[encoded data removed]",
      "text/plain": [
       "<Figure size 792x576 with 1 Axes>"
      ]
     },
     "metadata": {},
     "output_type": "display_data"
    },
    {
     "data": {
      "text/plain": [
       "<ggplot: (8739043354905)>"
      ]
     },
     "metadata": {},
     "output_type": "display_data"
    }
   ],
   "source": [
    "from pandas import *\n",
    "from ggplot import *\n",
    "pydf = DataFrame({'pop':x,'price':y})\n",
    "#pydf['pop'] = pandas.to_numeric(pydf['pop'], errors='coerce')\n",
    "#pydf['price'] = pandas.to_numeric(pydf['price'], errors='coerce')\n",
    "# p = ggplot(pydf, aes('pop','price')) + \\\n",
    "#     geom_point(color='blue')\n",
    "display(p)"
   ]
  },
  {
   "cell_type": "code",
   "execution_count": null,
   "metadata": {},
   "outputs": [],
   "source": []
  },
  {
   "cell_type": "code",
   "execution_count": null,
   "metadata": {},
   "outputs": [],
   "source": []
  },
  {
   "cell_type": "code",
   "execution_count": null,
   "metadata": {},
   "outputs": [],
   "source": []
  }
 ],
 "metadata": {
  "kernelspec": {
   "display_name": "Python 2",
   "language": "python",
   "name": "python2"
  }
 },
 "nbformat": 4,
 "nbformat_minor": 2
}
